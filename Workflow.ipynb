{
 "cells": [
  {
   "cell_type": "markdown",
   "metadata": {},
   "source": [
    "# Workflow for Classification"
   ]
  },
  {
   "cell_type": "markdown",
   "metadata": {},
   "source": [
    "## 1. Processing data"
   ]
  },
  {
   "cell_type": "code",
   "execution_count": null,
   "metadata": {},
   "outputs": [],
   "source": [
    "from Hackaton_Quantum.data_processing.process import create_label_folder,generate_train,generate_test"
   ]
  },
  {
   "cell_type": "code",
   "execution_count": null,
   "metadata": {},
   "outputs": [],
   "source": [
    "DATA_PATH = './Hackaton_Quantum/data/ai_ready/ai_ready/images'\n",
    "CSV_PATH = './Hackaton_Quantum/data/ai_ready/ai_ready/x-ai_data.csv'\n",
    "FINAL_PATH =  './Hackaton_Quantum/data/ai_ready/ai_ready/traitement/'\n",
    "create_label_folder(\n",
    "    DATA_PATH,\n",
    "    CSV_PATH,\n",
    "    FINAL_PATH\n",
    ")\n",
    "train, validation = generate_train(\n",
    "    FINAL_PATH + 'train/',\n",
    "    FINAL_PATH + 'validation/'\n",
    ")"
   ]
  },
  {
   "cell_type": "markdown",
   "metadata": {},
   "source": [
    "## 2. Modeling"
   ]
  },
  {
   "cell_type": "code",
   "execution_count": null,
   "metadata": {},
   "outputs": [],
   "source": [
    "from Hackaton_Quantum.models.classification_models import generate_inception,generate_VGG"
   ]
  },
  {
   "cell_type": "code",
   "execution_count": null,
   "metadata": {},
   "outputs": [],
   "source": [
    "vgg_model = generate_VGG(train,validation) # generate VGG returns a fitted model\n",
    "inception_model = generate_inception(train,validation)"
   ]
  },
  {
   "cell_type": "markdown",
   "metadata": {},
   "source": [
    "## 3. Prediction on test/validation data"
   ]
  },
  {
   "cell_type": "code",
   "execution_count": null,
   "metadata": {},
   "outputs": [],
   "source": [
    "from Hackaton_Quantum.evaluation.predict import evaluate,predict"
   ]
  },
  {
   "cell_type": "code",
   "execution_count": null,
   "metadata": {},
   "outputs": [],
   "source": [
    "# We first need to transform the image into tensors which can be exploited by our model, it will then make predictions step by step for every new image\n",
    "silos_for_validation, pas_silos_for_validation = generate_test(\n",
    "    FINAL_PATH+ '/validation')\n",
    "image_to_predict = generate_test(\n",
    "    FINAL_PATH + '/test'\n",
    ")\n",
    "\n",
    "metrics_evaluation_inception = evaluate(inception_model,silos_for_validation,pas_silos_for_validation)\n",
    "metrics_evaluation_vgg = evaluate(vgg_model,silos_for_validation,pas_silos_for_validation)\n",
    "\n",
    "predictions_on_test_inception = predict(inception_model,image_to_predict)\n",
    "predictions_on_test_vgg = predict(vgg_model,image_to_predict)"
   ]
  },
  {
   "cell_type": "markdown",
   "metadata": {},
   "source": [
    "## "
   ]
  }
 ],
 "metadata": {
  "kernelspec": {
   "display_name": "hackaton",
   "language": "python",
   "name": "hackaton"
  },
  "language_info": {
   "codemirror_mode": {
    "name": "ipython",
    "version": 3
   },
   "file_extension": ".py",
   "mimetype": "text/x-python",
   "name": "python",
   "nbconvert_exporter": "python",
   "pygments_lexer": "ipython3",
   "version": "3.9.13"
  },
  "orig_nbformat": 4,
  "vscode": {
   "interpreter": {
    "hash": "e1c280fbe7a450530379d613862413e9e7731695a7f0747eaf00d5ae1c63cca7"
   }
  }
 },
 "nbformat": 4,
 "nbformat_minor": 2
}
