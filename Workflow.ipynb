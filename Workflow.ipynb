{
 "cells": [
  {
   "cell_type": "markdown",
   "metadata": {},
   "source": [
    "# Workflow for Classification"
   ]
  },
  {
   "cell_type": "markdown",
   "metadata": {},
   "source": [
    "## 0. Working on colab\n",
    "You have to clone the repo and get some credentials in order to work on colab and access gpu compautation"
   ]
  },
  {
   "cell_type": "code",
   "execution_count": null,
   "metadata": {},
   "outputs": [],
   "source": [
    "!git clone https://github.com/MorelElian/Hackaton_Quantum;"
   ]
  },
  {
   "cell_type": "markdown",
   "metadata": {},
   "source": [
    "## 1. Processing data"
   ]
  },
  {
   "cell_type": "code",
   "execution_count": null,
   "metadata": {},
   "outputs": [],
   "source": [
    "from Hackaton_Quantum.data_processing.process import create_label_folder,generate_train,generate_test"
   ]
  },
  {
   "cell_type": "code",
   "execution_count": null,
   "metadata": {},
   "outputs": [],
   "source": [
    "## You might want to change those paths, depending on the fact that you are working on collab or not\n",
    "DATA_PATH = './Hackaton_Quantum/data/ai_ready/ai_ready/images'\n",
    "CSV_PATH = './Hackaton_Quantum/data/ai_ready/ai_ready/x-ai_data.csv'\n",
    "FINAL_PATH =  './Hackaton_Quantum/data/ai_ready/ai_ready/traitement/'\n",
    "VGG_MODEL_PATH = './Hackaton_Quantum/models/stored_models/VGG/'\n",
    "INCEPTION_MODEL_PATH = './Hackaton_Quantum/models/stored_models/INCEPTION/'\n",
    "create_label_folder(    \n",
    "    DATA_PATH,\n",
    "    CSV_PATH,\n",
    "    FINAL_PATH\n",
    ")\n",
    "train, validation = generate_train(\n",
    "    FINAL_PATH + 'train/',\n",
    "    FINAL_PATH + 'validation/'\n",
    ")"
   ]
  },
  {
   "cell_type": "markdown",
   "metadata": {},
   "source": [
    "## 2. Modeling"
   ]
  },
  {
   "cell_type": "markdown",
   "metadata": {},
   "source": [
    "The folders models/stored_models/VGG and models/stored_models/INCEPTION contains pre trained models for this tasks, if you want to load them -> load_models = true.  \n",
    "If you want to calculate new weights, set load_models to false : it can be much longer"
   ]
  },
  {
   "cell_type": "code",
   "execution_count": null,
   "metadata": {},
   "outputs": [],
   "source": [
    "from Hackaton_Quantum.models.classification_models import generate_inception,generate_VGG\n",
    "load_models = True"
   ]
  },
  {
   "cell_type": "code",
   "execution_count": null,
   "metadata": {},
   "outputs": [],
   "source": [
    "vgg_model = generate_VGG() # generate VGG returns a fitted model\n",
    "inception_model = generate_inception()\n",
    "if load_models : \n",
    "    vgg_model.load_weights(VGG_MODEL_PATH)\n",
    "    inception_model.weights(INCEPTION_MODEL_PATH)\n",
    "else:\n",
    "    vgg_model.fit_generator(train, validation_data = validation, steps_per_epoch = 50, epochs = 10)\n",
    "    inception_model.fit_generator(train, validation_data = validation, steps_per_epoch = 50, epochs = 10)"
   ]
  },
  {
   "cell_type": "code",
   "execution_count": null,
   "metadata": {},
   "outputs": [],
   "source": [
    "save_models = False"
   ]
  },
  {
   "cell_type": "code",
   "execution_count": null,
   "metadata": {},
   "outputs": [],
   "source": [
    "if save_models:\n",
    "    vgg_model.save_weights(VGG_MODEL_PATH)\n",
    "    inception_model.save_weights(INCEPTION_MODEL_PATH)\n"
   ]
  },
  {
   "cell_type": "markdown",
   "metadata": {},
   "source": [
    "## 3. Visualising performance"
   ]
  },
  {
   "cell_type": "code",
   "execution_count": null,
   "metadata": {},
   "outputs": [],
   "source": [
    "from Hackaton_Quantum.vizualisation.vizu import prompt_roc_curve\n",
    "\n",
    "silos_for_validation, pas_silos_for_validation = generate_test(FINAL_PATH + '/validation')\n",
    "\n",
    "prompt_roc_curve(vgg_model,\n",
    "                inception_model,\n",
    "                silos_for_validation,\n",
    "                pas_silos_for_validation,\n",
    "                pas = 15\n",
    "                )"
   ]
  },
  {
   "cell_type": "markdown",
   "metadata": {},
   "source": [
    "We can now select the best threshold depending on waht we want to do.   \n",
    "For example, in order to do the segmentation , we need a very good precision, therefore, we will consider the vgg model with a threshold equal to 0.7"
   ]
  },
  {
   "cell_type": "markdown",
   "metadata": {},
   "source": [
    "## 4. Prediction on test/validation data"
   ]
  },
  {
   "cell_type": "code",
   "execution_count": null,
   "metadata": {},
   "outputs": [],
   "source": [
    "from Hackaton_Quantum.evaluation.predict import evaluate,predict"
   ]
  },
  {
   "cell_type": "code",
   "execution_count": null,
   "metadata": {},
   "outputs": [],
   "source": [
    "# We first need to transform the image into tensors which can be exploited by our model, it will then make predictions step by step for every new image\n",
    "\n",
    "    \n",
    "image_to_predict = generate_test(\n",
    "    FINAL_PATH + '/test'\n",
    ")\n",
    "# We recompute the metrics for the best models selected\n",
    "metrics_evaluation_inception = evaluate(inception_model,silos_for_validation,pas_silos_for_validation,threshold = 0.7)\n",
    "metrics_evaluation_vgg = evaluate(vgg_model,silos_for_validation,pas_silos_for_validation, threshold = 0.6)\n",
    "\n",
    "predictions_on_test_inception = predict(inception_model,image_to_predict)\n",
    "predictions_on_test_vgg = predict(vgg_model,image_to_predict)"
   ]
  },
  {
   "cell_type": "markdown",
   "metadata": {},
   "source": [
    "## "
   ]
  }
 ],
 "metadata": {
  "kernelspec": {
   "display_name": "hackaton",
   "language": "python",
   "name": "hackaton"
  },
  "language_info": {
   "codemirror_mode": {
    "name": "ipython",
    "version": 3
   },
   "file_extension": ".py",
   "mimetype": "text/x-python",
   "name": "python",
   "nbconvert_exporter": "python",
   "pygments_lexer": "ipython3",
   "version": "3.9.13"
  },
  "orig_nbformat": 4,
  "vscode": {
   "interpreter": {
    "hash": "e1c280fbe7a450530379d613862413e9e7731695a7f0747eaf00d5ae1c63cca7"
   }
  }
 },
 "nbformat": 4,
 "nbformat_minor": 2
}
